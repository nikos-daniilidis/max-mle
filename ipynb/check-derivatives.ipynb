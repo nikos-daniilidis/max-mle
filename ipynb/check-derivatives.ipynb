{
 "cells": [
  {
   "cell_type": "code",
   "execution_count": 1,
   "metadata": {},
   "outputs": [],
   "source": [
    "from __future__ import print_function\n",
    "\n",
    "from scipy.stats import norm\n",
    "from scipy.special import erf\n",
    "import matplotlib.pyplot as plt\n",
    "import numpy as np"
   ]
  },
  {
   "cell_type": "code",
   "execution_count": 12,
   "metadata": {},
   "outputs": [],
   "source": [
    "xix = 0.05\n",
    "eps = 0.000000001\n",
    "loc = 0.\n",
    "scale = 0.1"
   ]
  },
  {
   "cell_type": "code",
   "execution_count": 36,
   "metadata": {},
   "outputs": [
    {
     "name": "stdout",
     "output_type": "stream",
     "text": [
      "4.999999969612645 5.0\n"
     ]
    }
   ],
   "source": [
    "d1 = (np.log(norm.pdf(xix, loc=loc + eps, scale=scale)) - np.log(norm.pdf(xix, loc=loc, scale=scale)))/eps\n",
    "d2 = (xix - loc) / scale ** 2\n",
    "\n",
    "print (d1, d2)"
   ]
  },
  {
   "cell_type": "code",
   "execution_count": 38,
   "metadata": {},
   "outputs": [
    {
     "name": "stdout",
     "output_type": "stream",
     "text": [
      "-5.091604304841013 -5.0916043383703355\n"
     ]
    }
   ],
   "source": [
    "d1 = (np.log(norm.cdf(xix, loc=loc + eps, scale=scale)) - np.log(norm.cdf(xix, loc=loc, scale=scale)))/eps\n",
    "d2 = (-np.exp(-(xix - loc)**2 / (2 * scale**2))\n",
    "                    /(np.sqrt(2 * np.pi) * scale * (erf((xix-loc) / (np.sqrt(2) * scale)) / 2 + 1./2)))\n",
    "\n",
    "print (d1, d2)"
   ]
  },
  {
   "cell_type": "code",
   "execution_count": 45,
   "metadata": {},
   "outputs": [
    {
     "name": "stdout",
     "output_type": "stream",
     "text": [
      "-7.499999954418967 -7.5\n"
     ]
    }
   ],
   "source": [
    "d1 =  (np.log(norm.pdf(xix, loc=loc, scale=scale+eps)) - np.log(norm.pdf(xix, loc=loc, scale=scale)))/eps\n",
    "d2 = ((xix-loc)**2) / scale**3 - 1 / scale\n",
    "\n",
    "print (d1, d2)"
   ]
  },
  {
   "cell_type": "code",
   "execution_count": 42,
   "metadata": {},
   "outputs": [
    {
     "name": "stdout",
     "output_type": "stream",
     "text": [
      "2.5458022356872334 2.545802169185168\n"
     ]
    }
   ],
   "source": [
    "d1 = (np.log(norm.cdf(xix, loc=loc, scale=scale)) - np.log(norm.cdf(xix, loc=loc, scale=scale+eps)))/eps\n",
    "d2 = (((xix - loc) * np.exp(-(xix - loc)**2 / (2 * scale**2)))\n",
    "                    / (np.sqrt(2 * np.pi) * scale**2 * (erf((xix - loc) / (np.sqrt(2) * scale)) / 2 + 1./2)))\n",
    "\n",
    "print (d1, d2)"
   ]
  },
  {
   "cell_type": "code",
   "execution_count": null,
   "metadata": {},
   "outputs": [],
   "source": []
  },
  {
   "cell_type": "code",
   "execution_count": null,
   "metadata": {},
   "outputs": [],
   "source": []
  },
  {
   "cell_type": "code",
   "execution_count": null,
   "metadata": {},
   "outputs": [],
   "source": []
  },
  {
   "cell_type": "code",
   "execution_count": null,
   "metadata": {},
   "outputs": [],
   "source": []
  },
  {
   "cell_type": "code",
   "execution_count": null,
   "metadata": {},
   "outputs": [],
   "source": []
  }
 ],
 "metadata": {
  "kernelspec": {
   "display_name": "Python 2",
   "language": "python",
   "name": "python2"
  },
  "language_info": {
   "codemirror_mode": {
    "name": "ipython",
    "version": 2
   },
   "file_extension": ".py",
   "mimetype": "text/x-python",
   "name": "python",
   "nbconvert_exporter": "python",
   "pygments_lexer": "ipython2",
   "version": "2.7.12"
  }
 },
 "nbformat": 4,
 "nbformat_minor": 2
}
